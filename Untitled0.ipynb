{
  "nbformat": 4,
  "nbformat_minor": 0,
  "metadata": {
    "colab": {
      "provenance": [],
      "authorship_tag": "ABX9TyPdld3RXadUkshWYqn5vmbZ",
      "include_colab_link": true
    },
    "kernelspec": {
      "name": "python3",
      "display_name": "Python 3"
    },
    "language_info": {
      "name": "python"
    }
  },
  "cells": [
    {
      "cell_type": "markdown",
      "metadata": {
        "id": "view-in-github",
        "colab_type": "text"
      },
      "source": [
        "<a href=\"https://colab.research.google.com/github/Miguel-Angel-Barcenas-Trejo/ComputoNube/blob/main/Untitled0.ipynb\" target=\"_parent\"><img src=\"https://colab.research.google.com/assets/colab-badge.svg\" alt=\"Open In Colab\"/></a>"
      ]
    },
    {
      "cell_type": "code",
      "execution_count": 1,
      "metadata": {
        "colab": {
          "base_uri": "https://localhost:8080/"
        },
        "id": "QhfyLuX4demf",
        "outputId": "988fd1dd-2a56-4d75-e5de-42455d2612b1"
      },
      "outputs": [
        {
          "output_type": "stream",
          "name": "stdout",
          "text": [
            "Requirement already satisfied: cryptography in /usr/local/lib/python3.10/dist-packages (43.0.3)\n",
            "Requirement already satisfied: cffi>=1.12 in /usr/local/lib/python3.10/dist-packages (from cryptography) (1.17.1)\n",
            "Requirement already satisfied: pycparser in /usr/local/lib/python3.10/dist-packages (from cffi>=1.12->cryptography) (2.22)\n"
          ]
        }
      ],
      "source": [
        "!pip install cryptography\n"
      ]
    },
    {
      "cell_type": "code",
      "source": [
        "from cryptography.fernet import Fernet\n",
        "\n",
        "# Generar una clave\n",
        "def generate_key():\n",
        "    key = Fernet.generate_key()  # Genera una nueva clave\n",
        "    with open(\"secret.key\", \"wb\") as key_file:\n",
        "        key_file.write(key)  # Guarda la clave en un archivo\n",
        "    return key\n",
        "\n",
        "# Cifrar un mensaje\n",
        "def encrypt_message(message):\n",
        "    key = generate_key()  # Genera la clave\n",
        "    f = Fernet(key)  # Crea un objeto Fernet\n",
        "    encrypted_message = f.encrypt(message.encode())  # Cifra el mensaje\n",
        "    return key, encrypted_message  # Devuelve la clave y el mensaje cifrado\n",
        "\n",
        "# Usar el programa\n",
        "message = \"Este es un mensaje secreto.\"  # Mensaje a cifrar\n",
        "key, encrypted_message = encrypt_message(message)  # Cifra el mensaje\n",
        "print(\"Clave:\", key.decode())  # Imprime la clave\n",
        "print(\"Mensaje cifrado:\", encrypted_message.decode())  # Imprime el mensaje cifrado\n"
      ],
      "metadata": {
        "colab": {
          "base_uri": "https://localhost:8080/"
        },
        "id": "b8iA09dQd2DF",
        "outputId": "5dcf1282-8902-4c9c-c715-065266813ba0"
      },
      "execution_count": 2,
      "outputs": [
        {
          "output_type": "stream",
          "name": "stdout",
          "text": [
            "Clave: 7_RRUVGatmTcTd6utBba7OzfHa5yUHVuUwG7pB9I5DA=\n",
            "Mensaje cifrado: gAAAAABnGXawGv0pUh_mQi9Nis6LEC_wwIIHuDDV8MyoBITSFH2W82LCrKLI4ZQJkIJM2RCC0_nqm14G9YD96As1M_qY1rbH_yBlNpl2UJ-_Ew8NfzFF_CA=\n"
          ]
        }
      ]
    },
    {
      "cell_type": "code",
      "source": [
        "from cryptography.fernet import Fernet\n",
        "\n",
        "# Descifrar un mensaje\n",
        "def decrypt_message(key, encrypted_message):\n",
        "    f = Fernet(key)  # Crea un objeto Fernet con la clave\n",
        "    decrypted_message = f.decrypt(encrypted_message).decode()  # Descifra el mensaje\n",
        "    return decrypted_message  # Devuelve el mensaje descifrado\n",
        "\n",
        "# Usar el programa\n",
        "# Sustituye con la clave y mensaje cifrado que obtuviste anteriormente\n",
        "key = b'7_RRUVGatmTcTd6utBba7OzfHa5yUHVuUwG7pB9I5DA='  # Reemplaza con tu clave\n",
        "encrypted_message = b'gAAAAABnGXawGv0pUh_mQi9Nis6LEC_wwIIHuDDV8MyoBITSFH2W82LCrKLI4ZQJkIJM2RCC0_nqm14G9YD96As1M_qY1rbH_yBlNpl2UJ-_Ew8NfzFF_CA='  # Reemplaza con tu mensaje cifrado\n",
        "decrypted_message = decrypt_message(key, encrypted_message)  # Descifra el mensaje\n",
        "print(\"Mensaje descifrado:\", decrypted_message)  # Imprime el mensaje descifrado\n"
      ],
      "metadata": {
        "colab": {
          "base_uri": "https://localhost:8080/"
        },
        "id": "GnO3iyBCeOm9",
        "outputId": "f6cdea7e-e579-4324-f72e-f514781f0201"
      },
      "execution_count": 3,
      "outputs": [
        {
          "output_type": "stream",
          "name": "stdout",
          "text": [
            "Mensaje descifrado: Este es un mensaje secreto.\n"
          ]
        }
      ]
    }
  ]
}